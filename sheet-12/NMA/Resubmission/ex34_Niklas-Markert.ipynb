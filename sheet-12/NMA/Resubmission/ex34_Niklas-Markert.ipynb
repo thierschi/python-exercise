{
 "cells": [
  {
   "cell_type": "markdown",
   "metadata": {},
   "source": [
    "# Sheet 12 Exercise 34 - Resubmission\n",
    "**Niklas Markert** - 1611460 / bt709885\n"
   ]
  },
  {
   "cell_type": "markdown",
   "metadata": {},
   "source": [
    "## a)\n",
    "A neuron is a logistic regression unit, which has multiple inputs and one output. A layer is an amount of neurons, which are on the same level of a neural network. The neurons of two adjacent layers are connected with each other. That means the outputs of the neurons of layer i are the inputs for the neurons of layer i+1."
   ]
  },
  {
   "cell_type": "markdown",
   "metadata": {},
   "source": [
    "## b)"
   ]
  },
  {
   "cell_type": "code",
   "execution_count": 10,
   "metadata": {},
   "outputs": [],
   "source": [
    "#%pip install tensorflow"
   ]
  },
  {
   "cell_type": "code",
   "execution_count": 60,
   "metadata": {},
   "outputs": [
    {
     "data": {
      "text/plain": [
       "'2.5.0'"
      ]
     },
     "execution_count": 60,
     "metadata": {},
     "output_type": "execute_result"
    }
   ],
   "source": [
    "import numpy as np\n",
    "import matplotlib.pyplot as plt\n",
    "import tensorflow as tf\n",
    "tf.__version__"
   ]
  },
  {
   "cell_type": "code",
   "execution_count": 15,
   "metadata": {},
   "outputs": [
    {
     "data": {
      "text/plain": [
       "(192,)"
      ]
     },
     "execution_count": 15,
     "metadata": {},
     "output_type": "execute_result"
    }
   ],
   "source": [
    "x_train = np.load('x_train.npy')\n",
    "y_train = np.load('y_train.npy')\n",
    "x_test = np.load('x_test.npy')\n",
    "y_test = np.load('y_test.npy')"
   ]
  },
  {
   "cell_type": "markdown",
   "metadata": {},
   "source": [
    "## c)"
   ]
  },
  {
   "cell_type": "code",
   "execution_count": 40,
   "metadata": {},
   "outputs": [],
   "source": [
    "from tensorflow.keras import models\n",
    "from tensorflow.keras import layers\n",
    "from sklearn import metrics"
   ]
  },
  {
   "cell_type": "code",
   "execution_count": 18,
   "metadata": {},
   "outputs": [
    {
     "data": {
      "text/plain": [
       "8"
      ]
     },
     "execution_count": 18,
     "metadata": {},
     "output_type": "execute_result"
    }
   ],
   "source": [
    "n = x_train.shape[1]\n",
    "n"
   ]
  },
  {
   "cell_type": "code",
   "execution_count": 19,
   "metadata": {},
   "outputs": [],
   "source": [
    "network = models.Sequential()\n",
    "network.add(layers.Dense(1, activation='sigmoid', input_shape=(n,)))"
   ]
  },
  {
   "cell_type": "code",
   "execution_count": 23,
   "metadata": {},
   "outputs": [],
   "source": [
    "network.compile(optimizer='sgd', loss='binary_crossentropy', metrics=['accuracy'])"
   ]
  },
  {
   "cell_type": "code",
   "execution_count": 39,
   "metadata": {},
   "outputs": [
    {
     "name": "stdout",
     "output_type": "stream",
     "text": [
      "Epoch 1/10\n",
      "18/18 [==============================] - 0s 1ms/step - loss: 0.4827 - accuracy: 0.7656\n",
      "Epoch 2/10\n",
      "18/18 [==============================] - 0s 2ms/step - loss: 0.4827 - accuracy: 0.7656\n",
      "Epoch 3/10\n",
      "18/18 [==============================] - 0s 2ms/step - loss: 0.4828 - accuracy: 0.7656\n",
      "Epoch 4/10\n",
      "18/18 [==============================] - 0s 2ms/step - loss: 0.4827 - accuracy: 0.7656\n",
      "Epoch 5/10\n",
      "18/18 [==============================] - 0s 2ms/step - loss: 0.4827 - accuracy: 0.7656\n",
      "Epoch 6/10\n",
      "18/18 [==============================] - 0s 3ms/step - loss: 0.4827 - accuracy: 0.7656\n",
      "Epoch 7/10\n",
      "18/18 [==============================] - 0s 4ms/step - loss: 0.4827 - accuracy: 0.7656\n",
      "Epoch 8/10\n",
      "18/18 [==============================] - 0s 2ms/step - loss: 0.4827 - accuracy: 0.7656\n",
      "Epoch 9/10\n",
      "18/18 [==============================] - 0s 2ms/step - loss: 0.4827 - accuracy: 0.7656\n",
      "Epoch 10/10\n",
      "18/18 [==============================] - 0s 2ms/step - loss: 0.4827 - accuracy: 0.7656\n"
     ]
    },
    {
     "data": {
      "text/plain": [
       "<tensorflow.python.keras.callbacks.History at 0x1f5e54b86d0>"
      ]
     },
     "execution_count": 39,
     "metadata": {},
     "output_type": "execute_result"
    }
   ],
   "source": [
    "network.fit(x_train, y_train, epochs=10)"
   ]
  },
  {
   "cell_type": "code",
   "execution_count": 54,
   "metadata": {},
   "outputs": [],
   "source": [
    "pred_test = network.predict(x_test)\n",
    "pred_test[pred_test > 0.5] = 1\n",
    "pred_test[pred_test <= 0.5] = 0"
   ]
  },
  {
   "cell_type": "code",
   "execution_count": 55,
   "metadata": {},
   "outputs": [
    {
     "data": {
      "text/plain": [
       "array([[118,  12],\n",
       "       [ 26,  36]], dtype=int64)"
      ]
     },
     "execution_count": 55,
     "metadata": {},
     "output_type": "execute_result"
    }
   ],
   "source": [
    "cnf_matrix = metrics.confusion_matrix(y_test, pred_test)\n",
    "cnf_matrix"
   ]
  },
  {
   "cell_type": "markdown",
   "metadata": {},
   "source": [
    "## d)"
   ]
  },
  {
   "cell_type": "code",
   "execution_count": 56,
   "metadata": {},
   "outputs": [],
   "source": [
    "network2 =  models.Sequential()\n",
    "network2.add(layers.Dense(12, activation='relu', input_shape=(n,)))\n",
    "network2.add(layers.Dense(10, activation='relu'))\n",
    "network2.add(layers.Dense(1, activation='sigmoid'))"
   ]
  },
  {
   "cell_type": "code",
   "execution_count": 57,
   "metadata": {},
   "outputs": [],
   "source": [
    "network2.compile(optimizer='rmsprop', loss='binary_crossentropy', metrics=['accuracy'])"
   ]
  },
  {
   "cell_type": "code",
   "execution_count": 102,
   "metadata": {},
   "outputs": [
    {
     "name": "stdout",
     "output_type": "stream",
     "text": [
      "Epoch 1/15\n",
      "18/18 [==============================] - 0s 5ms/step - loss: 0.3527 - accuracy: 0.8594 - val_loss: 0.5487 - val_accuracy: 0.7812\n",
      "Epoch 2/15\n",
      "18/18 [==============================] - 0s 4ms/step - loss: 0.3534 - accuracy: 0.8455 - val_loss: 0.5499 - val_accuracy: 0.7865\n",
      "Epoch 3/15\n",
      "18/18 [==============================] - 0s 3ms/step - loss: 0.3530 - accuracy: 0.8455 - val_loss: 0.5496 - val_accuracy: 0.7812\n",
      "Epoch 4/15\n",
      "18/18 [==============================] - 0s 4ms/step - loss: 0.3525 - accuracy: 0.8507 - val_loss: 0.5500 - val_accuracy: 0.7812\n",
      "Epoch 5/15\n",
      "18/18 [==============================] - 0s 3ms/step - loss: 0.3521 - accuracy: 0.8507 - val_loss: 0.5500 - val_accuracy: 0.7812\n",
      "Epoch 6/15\n",
      "18/18 [==============================] - 0s 3ms/step - loss: 0.3516 - accuracy: 0.8455 - val_loss: 0.5517 - val_accuracy: 0.7812\n",
      "Epoch 7/15\n",
      "18/18 [==============================] - 0s 3ms/step - loss: 0.3521 - accuracy: 0.8559 - val_loss: 0.5510 - val_accuracy: 0.7760\n",
      "Epoch 8/15\n",
      "18/18 [==============================] - 0s 3ms/step - loss: 0.3512 - accuracy: 0.8490 - val_loss: 0.5527 - val_accuracy: 0.7812\n",
      "Epoch 9/15\n",
      "18/18 [==============================] - 0s 3ms/step - loss: 0.3516 - accuracy: 0.8438 - val_loss: 0.5532 - val_accuracy: 0.7812\n",
      "Epoch 10/15\n",
      "18/18 [==============================] - 0s 3ms/step - loss: 0.3515 - accuracy: 0.8542 - val_loss: 0.5533 - val_accuracy: 0.7812\n",
      "Epoch 11/15\n",
      "18/18 [==============================] - 0s 3ms/step - loss: 0.3503 - accuracy: 0.8559 - val_loss: 0.5527 - val_accuracy: 0.7865\n",
      "Epoch 12/15\n",
      "18/18 [==============================] - 0s 3ms/step - loss: 0.3505 - accuracy: 0.8490 - val_loss: 0.5543 - val_accuracy: 0.7812\n",
      "Epoch 13/15\n",
      "18/18 [==============================] - 0s 3ms/step - loss: 0.3500 - accuracy: 0.8507 - val_loss: 0.5548 - val_accuracy: 0.7812\n",
      "Epoch 14/15\n",
      "18/18 [==============================] - 0s 3ms/step - loss: 0.3502 - accuracy: 0.8507 - val_loss: 0.5557 - val_accuracy: 0.7812\n",
      "Epoch 15/15\n",
      "18/18 [==============================] - 0s 4ms/step - loss: 0.3490 - accuracy: 0.8490 - val_loss: 0.5547 - val_accuracy: 0.7812\n"
     ]
    }
   ],
   "source": [
    "hist = network2.fit(x_train, y_train, epochs=15, validation_data=(x_test, y_test))"
   ]
  },
  {
   "cell_type": "code",
   "execution_count": 107,
   "metadata": {},
   "outputs": [
    {
     "data": {
      "text/plain": [
       "<matplotlib.legend.Legend at 0x1f5ea823760>"
      ]
     },
     "execution_count": 107,
     "metadata": {},
     "output_type": "execute_result"
    },
    {
     "data": {
      "image/png": "[encoded data removed]",
      "text/plain": [
       "<Figure size 432x288 with 1 Axes>"
      ]
     },
     "metadata": {
      "needs_background": "light"
     },
     "output_type": "display_data"
    }
   ],
   "source": [
    "plt.plot(hist.history['loss'], label='Training loss')\n",
    "plt.plot(hist.history['val_loss'], label='Validation loss')\n",
    "plt.legend()"
   ]
  },
  {
   "cell_type": "code",
   "execution_count": 104,
   "metadata": {},
   "outputs": [],
   "source": [
    "pred_test2 = network2.predict(x_test)\n",
    "pred_test2[pred_test2 > 0.5] = 1\n",
    "pred_test2[pred_test2 <= 0.5] = 0"
   ]
  },
  {
   "cell_type": "code",
   "execution_count": 105,
   "metadata": {},
   "outputs": [
    {
     "data": {
      "text/plain": [
       "array([[113,  17],\n",
       "       [ 25,  37]], dtype=int64)"
      ]
     },
     "execution_count": 105,
     "metadata": {},
     "output_type": "execute_result"
    }
   ],
   "source": [
    "cnf_matrix2 = metrics.confusion_matrix(y_test, pred_test2)\n",
    "cnf_matrix2"
   ]
  },
  {
   "cell_type": "markdown",
   "metadata": {},
   "source": [
    "The plot indicates, that by increasing the number of epochs, the validation and training loss stay approximately constant. And as long as the validation loss isn't dramaticly increasing it, more epochs would lead to an overall better fit."
   ]
  },
  {
   "cell_type": "code",
   "execution_count": null,
   "metadata": {},
   "outputs": [],
   "source": []
  }
 ],
 "metadata": {
  "kernelspec": {
   "display_name": "Python 3",
   "language": "python",
   "name": "python3"
  },
  "language_info": {
   "codemirror_mode": {
    "name": "ipython",
    "version": 3
   },
   "file_extension": ".py",
   "mimetype": "text/x-python",
   "name": "python",
   "nbconvert_exporter": "python",
   "pygments_lexer": "ipython3",
   "version": "3.8.5"
  }
 },
 "nbformat": 4,
 "nbformat_minor": 4
}