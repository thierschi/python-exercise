{
 "cells": [
  {
   "cell_type": "markdown",
   "metadata": {
    "collapsed": true,
    "pycharm": {
     "name": "#%% md\n"
    }
   },
   "source": [
    "# Sheet 11 Exercise 32 - Resubmission\n",
    "**Niklas Markert** - 1611460 / bt709885\n"
   ]
  },
  {
   "cell_type": "code",
   "execution_count": 3,
   "outputs": [],
   "source": [
    "import pandas as pd\n",
    "import numpy as np\n",
    "import matplotlib.pyplot as plt\n",
    "from sklearn import metrics\n",
    "np.random.seed(0)"
   ],
   "metadata": {
    "collapsed": false,
    "pycharm": {
     "name": "#%%\n"
    }
   }
  },
  {
   "cell_type": "markdown",
   "source": [
    "## a)"
   ],
   "metadata": {
    "collapsed": false
   }
  },
  {
   "cell_type": "code",
   "execution_count": 2,
   "outputs": [
    {
     "data": {
      "text/plain": "<bound method NDFrame.head of      Pregnancies  Glucose  BloodPressure  SkinThickness  Insulin   BMI  \\\n0              6      148             72             35        0  33.6   \n1              1       85             66             29        0  26.6   \n2              8      183             64              0        0  23.3   \n3              1       89             66             23       94  28.1   \n4              0      137             40             35      168  43.1   \n..           ...      ...            ...            ...      ...   ...   \n763           10      101             76             48      180  32.9   \n764            2      122             70             27        0  36.8   \n765            5      121             72             23      112  26.2   \n766            1      126             60              0        0  30.1   \n767            1       93             70             31        0  30.4   \n\n     DiabetesPedigreeFunction  Age  Outcome  \n0                       0.627   50        1  \n1                       0.351   31        0  \n2                       0.672   32        1  \n3                       0.167   21        0  \n4                       2.288   33        1  \n..                        ...  ...      ...  \n763                     0.171   63        0  \n764                     0.340   27        0  \n765                     0.245   30        0  \n766                     0.349   47        1  \n767                     0.315   23        0  \n\n[768 rows x 9 columns]>"
     },
     "execution_count": 2,
     "metadata": {},
     "output_type": "execute_result"
    }
   ],
   "source": [
    "data = pd.read_csv('ex32_data.csv')\n",
    "data.head"
   ],
   "metadata": {
    "collapsed": false,
    "pycharm": {
     "name": "#%%\n"
    }
   }
  },
  {
   "cell_type": "code",
   "execution_count": 4,
   "outputs": [],
   "source": [
    "y = data.iloc[:, -1]\n",
    "X = data.iloc[:, :-1]"
   ],
   "metadata": {
    "collapsed": false,
    "pycharm": {
     "name": "#%%\n"
    }
   }
  },
  {
   "cell_type": "code",
   "execution_count": 5,
   "outputs": [],
   "source": [
    "m = X.shape[0]\n",
    "test_indices = np.random.choice(m, int(0.25*m), replace=False)\n",
    "all_indices = np.arange(m)\n",
    "train_indices = np.setdiff1d(all_indices, test_indices)"
   ],
   "metadata": {
    "collapsed": false,
    "pycharm": {
     "name": "#%%\n"
    }
   }
  },
  {
   "cell_type": "code",
   "execution_count": 9,
   "outputs": [],
   "source": [
    "train_set_x = X.loc[train_indices].to_numpy().T\n",
    "train_set_y = y.loc[train_indices].to_numpy().T"
   ],
   "metadata": {
    "collapsed": false,
    "pycharm": {
     "name": "#%%\n"
    }
   }
  },
  {
   "cell_type": "code",
   "execution_count": 20,
   "outputs": [],
   "source": [
    "test_set_x = X.loc[test_indices].to_numpy().T\n",
    "test_set_y = y.loc[test_indices].to_numpy().T"
   ],
   "metadata": {
    "collapsed": false,
    "pycharm": {
     "name": "#%%\n"
    }
   }
  },
  {
   "cell_type": "markdown",
   "source": [
    "## b)\n"
   ],
   "metadata": {
    "collapsed": false,
    "pycharm": {
     "name": "#%% md\n"
    }
   }
  },
  {
   "cell_type": "code",
   "execution_count": 11,
   "outputs": [],
   "source": [
    "def initialize_parameters(dim):\n",
    "    w = np.random.randn(dim, 1)\n",
    "    b = 0.\n",
    "    return w, b"
   ],
   "metadata": {
    "collapsed": false,
    "pycharm": {
     "name": "#%%\n"
    }
   }
  },
  {
   "cell_type": "code",
   "execution_count": 12,
   "outputs": [],
   "source": [
    "def sigmoid(z):\n",
    "    return 1 / (1 + np.exp(-z))"
   ],
   "metadata": {
    "collapsed": false,
    "pycharm": {
     "name": "#%%\n"
    }
   }
  },
  {
   "cell_type": "code",
   "execution_count": 13,
   "outputs": [],
   "source": [
    "def propagate(w, b, X, y):\n",
    "    m = X.shape[1]\n",
    "\n",
    "    # Calculate a\n",
    "    z = np.dot(w.T, X) + b\n",
    "    a = sigmoid(z)\n",
    "\n",
    "    cost = - 1/m * np.sum(y * np.log(a) + (1-y) * np.log(1-a))\n",
    "    if cost == np.NaN:\n",
    "        cost = np.inf\n",
    "\n",
    "    # Calculate dw, db\n",
    "    dw = 1/m * np.dot(X, (a - y).T)\n",
    "    db = 1/m * np.sum(a - y)\n",
    "\n",
    "    cost = np.squeeze(cost)\n",
    "\n",
    "    grads = {'dw': dw,\n",
    "            'db': db}\n",
    "\n",
    "    return grads, cost"
   ],
   "metadata": {
    "collapsed": false,
    "pycharm": {
     "name": "#%%\n"
    }
   }
  },
  {
   "cell_type": "code",
   "execution_count": 14,
   "outputs": [],
   "source": [
    "def optimize(w, b, X, y, num_iter, learning_rate):\n",
    "    costs = []\n",
    "\n",
    "    for i in range(num_iter):\n",
    "        grads, cost = propagate(w, b, X, y)\n",
    "\n",
    "        w = w - learning_rate * grads['dw']\n",
    "        b = b - learning_rate * grads['db']\n",
    "\n",
    "        if i % 10000 == 0:\n",
    "            costs.append(cost)\n",
    "            print(np.sum(grads['dw']**2) + np.sum(grads['db']**2))\n",
    "\n",
    "    params = {'w': w,\n",
    "             'b': b}\n",
    "\n",
    "    return params, grads, costs"
   ],
   "metadata": {
    "collapsed": false,
    "pycharm": {
     "name": "#%%\n"
    }
   }
  },
  {
   "cell_type": "code",
   "execution_count": 15,
   "outputs": [],
   "source": [
    "def predict(w, b, X):\n",
    "    a = sigmoid(np.dot(w.T, X) + b)\n",
    "    a[a>=0.5] = 1.\n",
    "    a[a<0.5] = 0.\n",
    "    return a"
   ],
   "metadata": {
    "collapsed": false,
    "pycharm": {
     "name": "#%%\n"
    }
   }
  },
  {
   "cell_type": "code",
   "execution_count": 16,
   "outputs": [],
   "source": [
    "def model(x_train, y_train, x_test, y_test, num_iter, learning_rate):\n",
    "    n = x_train.shape[0]\n",
    "    w, b = initialize_parameters(n)\n",
    "    params, grads, costs = optimize(w, b, x_train, y_train, num_iter, learning_rate)\n",
    "\n",
    "    y_hat_train = predict(params['w'], params['b'], x_train)\n",
    "    y_hat_test = predict(params['w'], params['b'], x_test)\n",
    "\n",
    "    print('training error: ', np.mean(np.abs(y_hat_train - y_train)))\n",
    "    print('test error: ', np.mean(np.abs(y_hat_test- y_test)))\n",
    "\n",
    "    return params, costs"
   ],
   "metadata": {
    "collapsed": false,
    "pycharm": {
     "name": "#%%\n"
    }
   }
  },
  {
   "cell_type": "markdown",
   "source": [
    "## c)"
   ],
   "metadata": {
    "collapsed": false,
    "pycharm": {
     "name": "#%% md\n"
    }
   }
  },
  {
   "cell_type": "code",
   "execution_count": 17,
   "outputs": [
    {
     "name": "stderr",
     "output_type": "stream",
     "text": [
      "<ipython-input-13-b63c18eeb729>:8: RuntimeWarning: divide by zero encountered in log\n",
      "  cost = - 1/m * np.sum(y * np.log(a) + (1-y) * np.log(1-a))\n",
      "<ipython-input-13-b63c18eeb729>:8: RuntimeWarning: invalid value encountered in multiply\n",
      "  cost = - 1/m * np.sum(y * np.log(a) + (1-y) * np.log(1-a))\n"
     ]
    },
    {
     "name": "stdout",
     "output_type": "stream",
     "text": [
      "9636.768935297276\n",
      "168.96507585053524\n",
      "131.57929386969266\n",
      "132.78866177819867\n",
      "133.25156501706005\n",
      "132.4231663574184\n",
      "130.40046616467984\n",
      "127.28170664306903\n",
      "123.15782419946422\n",
      "118.1130347705245\n",
      "112.22543830631268\n",
      "105.56753821997405\n",
      "98.2066960421374\n",
      "90.20553888018715\n",
      "81.622335455576\n",
      "72.51135879873152\n",
      "62.92326514139466\n",
      "52.90555615195908\n",
      "42.503321540513795\n",
      "31.761002070514664\n",
      "20.729067857757478\n",
      "9.513791254342998\n",
      "0.22217050907509348\n",
      "0.0007753882260422767\n",
      "0.0007517165547094576\n",
      "0.000728927500069058\n",
      "0.000706981694891951\n",
      "0.0006858419059654796\n",
      "0.0006654728891473063\n",
      "0.0006458412561466288\n",
      "0.0006269153518145742\n",
      "0.0006086651412431617\n",
      "0.0005910621059471897\n",
      "0.0005740791484021752\n",
      "0.0005576905042301765\n",
      "0.0005418716613581567\n",
      "0.0005265992855150423\n",
      "0.000511851151479591\n",
      "0.000497606079539612\n",
      "0.0004838438766708447\n",
      "0.0004705452819904753\n",
      "0.00045769191608429494\n",
      "0.00044526623384756765\n",
      "0.0004332514805175182\n",
      "0.0004216316506096313\n",
      "0.00041039144950113084\n",
      "0.0003995162574327289\n",
      "0.0003889920957247023\n",
      "0.0003788055950252774\n",
      "0.00036894396542884927\n",
      "0.00035939496831882066\n",
      "0.00035014688980489596\n",
      "0.00034118851563805203\n",
      "0.00033250910749813006\n",
      "0.0003240983805591406\n",
      "0.00031594648224658723\n",
      "0.00030804397210889715\n",
      "0.0003003818027321022\n",
      "0.000292951301633022\n",
      "0.00028574415407174537\n",
      "0.0002787523867288594\n",
      "0.00027196835219730955\n",
      "0.00026538471424246386\n",
      "0.0002589944337874624\n",
      "0.00025279075558383635\n",
      "0.0002467671955303079\n",
      "0.00024091752860503027\n",
      "0.00023523577737875906\n",
      "0.0002297162010786331\n",
      "0.00022435328517395723\n",
      "0.00021914173145716625\n",
      "0.0002140764485946888\n",
      "0.0002091525431239749\n",
      "0.00020436531087406263\n",
      "0.00019971022878868328\n",
      "0.000195182947131627\n",
      "0.00019077928205551582\n",
      "0.00018649520851603678\n",
      "0.00018232685351449667\n",
      "0.00017827048965273797\n",
      "0.00017432252898496572\n",
      "0.00017047951715212157\n",
      "0.00016673812778494703\n",
      "0.0001630951571627514\n",
      "0.00015954751911545853\n",
      "0.0001560922401571846\n",
      "0.000152726454840152\n",
      "0.00014944740131836028\n",
      "0.00014625241711089534\n",
      "0.00014313893505537434\n",
      "0.0001401044794423193\n",
      "0.000137146662321934\n",
      "0.00013426317997499817\n",
      "0.0001314518095400841\n",
      "0.00012871040578969853\n",
      "0.00012603689804827772\n",
      "0.00012342928724536726\n",
      "0.00012088564309756032\n",
      "0.00011840410141318507\n",
      "0.00011598286151398275\n",
      "0.00011362018376825358\n",
      "training error:  0.24479166666666666\n",
      "test error:  0.19270833333333334\n"
     ]
    }
   ],
   "source": [
    "num_iter = 1000001\n",
    "learning_rate = 0.00025\n",
    "params, costs = model(train_set_x, train_set_y,\n",
    "                      test_set_x, test_set_y,\n",
    "                      num_iter, learning_rate)"
   ],
   "metadata": {
    "collapsed": false,
    "pycharm": {
     "name": "#%%\n"
    }
   }
  },
  {
   "cell_type": "code",
   "execution_count": 19,
   "outputs": [
    {
     "data": {
      "text/plain": "<Figure size 432x288 with 1 Axes>",
      "image/png": "[encoded data removed]"
     },
     "metadata": {
      "needs_background": "light"
     },
     "output_type": "display_data"
    }
   ],
   "source": [
    "plt.plot(costs)"
   ],
   "metadata": {
    "collapsed": false,
    "pycharm": {
     "name": "#%%\n"
    }
   }
  },
  {
   "cell_type": "markdown",
   "source": [
    "## d)"
   ],
   "metadata": {
    "collapsed": false,
    "pycharm": {
     "name": "#%% md\n"
    }
   }
  },
  {
   "cell_type": "code",
   "execution_count": 30,
   "outputs": [],
   "source": [
    "pred_test = predict(params['w'], params['b'], test_set_x)"
   ],
   "metadata": {
    "collapsed": false,
    "pycharm": {
     "name": "#%%\n"
    }
   }
  },
  {
   "cell_type": "code",
   "execution_count": 32,
   "outputs": [
    {
     "name": "stdout",
     "output_type": "stream",
     "text": [
      "[[119  11]\n",
      " [ 26  36]]\n"
     ]
    }
   ],
   "source": [
    "cnf_matrix = metrics.confusion_matrix(np.squeeze(test_set_y), np.squeeze(pred_test))\n",
    "print(cnf_matrix)"
   ],
   "metadata": {
    "collapsed": false,
    "pycharm": {
     "name": "#%%\n"
    }
   }
  },
  {
   "cell_type": "markdown",
   "source": [
    "## e)"
   ],
   "metadata": {
    "collapsed": false,
    "pycharm": {
     "name": "#%% md\n"
    }
   }
  },
  {
   "cell_type": "code",
   "execution_count": 22,
   "outputs": [],
   "source": [
    "def get_cnf_matrix(learning_rate, steps):\n",
    "    print('# Train model with learning_rate=' + str(learning_rate) +\n",
    "          'and steps=' + str(steps) + '-------')\n",
    "    params, costs = model(train_set_x, train_set_y,\n",
    "                      test_set_x, test_set_y,\n",
    "                      steps, learning_rate)\n",
    "    pred = predict(params['w'], params['b'], test_set_x)\n",
    "    cnf_matrix = metrics.confusion_matrix(np.squeeze(test_set_y), np.squeeze(pred))\n",
    "    return cnf_matrix"
   ],
   "metadata": {
    "collapsed": false,
    "pycharm": {
     "name": "#%%\n"
    }
   }
  },
  {
   "cell_type": "code",
   "execution_count": 23,
   "outputs": [
    {
     "name": "stdout",
     "output_type": "stream",
     "text": [
      "# Train model with learning_rate=0.00025and steps=1000001-------\n",
      "9423.843148331283\n"
     ]
    },
    {
     "name": "stderr",
     "output_type": "stream",
     "text": [
      "<ipython-input-13-b63c18eeb729>:8: RuntimeWarning: divide by zero encountered in log\n",
      "  cost = - 1/m * np.sum(y * np.log(a) + (1-y) * np.log(1-a))\n",
      "<ipython-input-13-b63c18eeb729>:8: RuntimeWarning: invalid value encountered in multiply\n",
      "  cost = - 1/m * np.sum(y * np.log(a) + (1-y) * np.log(1-a))\n"
     ]
    },
    {
     "name": "stdout",
     "output_type": "stream",
     "text": [
      "44.26001548760819\n",
      "56.24597468672193\n",
      "70.51292721387338\n",
      "81.91304833466778\n",
      "90.67472057136426\n",
      "97.06561368005283\n",
      "101.32115495329444\n",
      "103.64995949048101\n",
      "104.23856810819139\n",
      "103.2549678864282\n",
      "100.85125844707882\n",
      "97.16571327753627\n",
      "92.32440859477899\n",
      "86.44254223974266\n",
      "79.62553178058134\n",
      "71.96996023225931\n",
      "63.564430045802375\n",
      "54.49040075005861\n",
      "44.823163372065494\n",
      "34.63343167018305\n",
      "23.99173259129305\n",
      "12.99215897160954\n",
      "2.222923561314991\n",
      "0.0007803342605515806\n",
      "0.0007550450780335858\n",
      "0.0007308552398274757\n",
      "0.0007077001099713717\n",
      "0.0006855200068314536\n",
      "0.000664259656603656\n",
      "0.0006438678329051144\n",
      "0.000624297020687491\n",
      "0.0006055031048904043\n",
      "0.0005874450835569902\n",
      "0.0005700848046264566\n",
      "0.000553386725277467\n",
      "0.0005373176924830876\n",
      "0.0005218467433222052\n",
      "0.0005069449235477946\n",
      "0.0004925851229201485\n",
      "0.00047874192585663656\n",
      "0.000465391476017498\n",
      "0.00045251135352985725\n",
      "0.0004400804636432122\n",
      "0.0004280789357040523\n",
      "0.0004164880314310642\n",
      "0.00040529006156379295\n",
      "0.0003944683100444734\n",
      "0.0003840069649743284\n",
      "0.00037389105566123615\n",
      "0.0003641063951454112\n",
      "0.0003546395276530156\n",
      "0.0003454776804855482\n",
      "0.0003366087199046717\n",
      "0.0003280211106191985\n",
      "0.00031970387852287403\n",
      "0.00031164657636910387\n",
      "0.0003038392521026014\n",
      "0.00029627241959749226\n",
      "0.00028893703157830986\n",
      "0.0002818244545238511\n",
      "0.0002749264453748983\n",
      "0.00026823512988553876\n",
      "0.00026174298247440085\n",
      "0.00025544280744679474\n",
      "0.0002493277214719446\n",
      "0.00024339113721095004\n",
      "0.00023762674800171065\n",
      "0.00023202851351582685\n",
      "0.00022659064631124932\n",
      "0.00022130759921110078\n",
      "0.00021617405344604885\n",
      "0.0002111849075031855\n",
      "0.00020633526662973696\n",
      "0.00020162043294426124\n"
     ]
    },
    {
     "ename": "KeyboardInterrupt",
     "evalue": "",
     "output_type": "error",
     "traceback": [
      "\u001B[1;31m---------------------------------------------------------------------------\u001B[0m",
      "\u001B[1;31mKeyboardInterrupt\u001B[0m                         Traceback (most recent call last)",
      "\u001B[1;32m<ipython-input-23-59747ae9bfef>\u001B[0m in \u001B[0;36m<module>\u001B[1;34m\u001B[0m\n\u001B[0;32m      4\u001B[0m \u001B[1;32mfor\u001B[0m \u001B[0mlearning_rate\u001B[0m \u001B[1;32min\u001B[0m \u001B[0mlrates\u001B[0m\u001B[1;33m:\u001B[0m\u001B[1;33m\u001B[0m\u001B[1;33m\u001B[0m\u001B[0m\n\u001B[0;32m      5\u001B[0m     \u001B[1;32mfor\u001B[0m \u001B[0mamount_steps\u001B[0m \u001B[1;32min\u001B[0m \u001B[0msteps\u001B[0m\u001B[1;33m:\u001B[0m\u001B[1;33m\u001B[0m\u001B[1;33m\u001B[0m\u001B[0m\n\u001B[1;32m----> 6\u001B[1;33m         \u001B[0mcnfm\u001B[0m \u001B[1;33m=\u001B[0m \u001B[0mget_cnf_matrix\u001B[0m\u001B[1;33m(\u001B[0m\u001B[0mlearning_rate\u001B[0m\u001B[1;33m,\u001B[0m \u001B[0mamount_steps\u001B[0m\u001B[1;33m)\u001B[0m\u001B[1;33m\u001B[0m\u001B[1;33m\u001B[0m\u001B[0m\n\u001B[0m\u001B[0;32m      7\u001B[0m         print('# Confusion matrix with learning_rate=' + str(learning_rate) +\n\u001B[0;32m      8\u001B[0m           'and steps=' + str(steps) + '-------')\n",
      "\u001B[1;32m<ipython-input-22-249783bb8b97>\u001B[0m in \u001B[0;36mget_cnf_matrix\u001B[1;34m(learning_rate, steps)\u001B[0m\n\u001B[0;32m      2\u001B[0m     print('# Train model with learning_rate=' + str(learning_rate) +\n\u001B[0;32m      3\u001B[0m           'and steps=' + str(steps) + '-------')\n\u001B[1;32m----> 4\u001B[1;33m     params, costs = model(train_set_x, train_set_y,\n\u001B[0m\u001B[0;32m      5\u001B[0m                       \u001B[0mtest_set_x\u001B[0m\u001B[1;33m,\u001B[0m \u001B[0mtest_set_y\u001B[0m\u001B[1;33m,\u001B[0m\u001B[1;33m\u001B[0m\u001B[1;33m\u001B[0m\u001B[0m\n\u001B[0;32m      6\u001B[0m                       steps, learning_rate)\n",
      "\u001B[1;32m<ipython-input-16-2f4459399eeb>\u001B[0m in \u001B[0;36mmodel\u001B[1;34m(x_train, y_train, x_test, y_test, num_iter, learning_rate)\u001B[0m\n\u001B[0;32m      2\u001B[0m     \u001B[0mn\u001B[0m \u001B[1;33m=\u001B[0m \u001B[0mx_train\u001B[0m\u001B[1;33m.\u001B[0m\u001B[0mshape\u001B[0m\u001B[1;33m[\u001B[0m\u001B[1;36m0\u001B[0m\u001B[1;33m]\u001B[0m\u001B[1;33m\u001B[0m\u001B[1;33m\u001B[0m\u001B[0m\n\u001B[0;32m      3\u001B[0m     \u001B[0mw\u001B[0m\u001B[1;33m,\u001B[0m \u001B[0mb\u001B[0m \u001B[1;33m=\u001B[0m \u001B[0minitialize_parameters\u001B[0m\u001B[1;33m(\u001B[0m\u001B[0mn\u001B[0m\u001B[1;33m)\u001B[0m\u001B[1;33m\u001B[0m\u001B[1;33m\u001B[0m\u001B[0m\n\u001B[1;32m----> 4\u001B[1;33m     \u001B[0mparams\u001B[0m\u001B[1;33m,\u001B[0m \u001B[0mgrads\u001B[0m\u001B[1;33m,\u001B[0m \u001B[0mcosts\u001B[0m \u001B[1;33m=\u001B[0m \u001B[0moptimize\u001B[0m\u001B[1;33m(\u001B[0m\u001B[0mw\u001B[0m\u001B[1;33m,\u001B[0m \u001B[0mb\u001B[0m\u001B[1;33m,\u001B[0m \u001B[0mx_train\u001B[0m\u001B[1;33m,\u001B[0m \u001B[0my_train\u001B[0m\u001B[1;33m,\u001B[0m \u001B[0mnum_iter\u001B[0m\u001B[1;33m,\u001B[0m \u001B[0mlearning_rate\u001B[0m\u001B[1;33m)\u001B[0m\u001B[1;33m\u001B[0m\u001B[1;33m\u001B[0m\u001B[0m\n\u001B[0m\u001B[0;32m      5\u001B[0m \u001B[1;33m\u001B[0m\u001B[0m\n\u001B[0;32m      6\u001B[0m     \u001B[0my_hat_train\u001B[0m \u001B[1;33m=\u001B[0m \u001B[0mpredict\u001B[0m\u001B[1;33m(\u001B[0m\u001B[0mparams\u001B[0m\u001B[1;33m[\u001B[0m\u001B[1;34m'w'\u001B[0m\u001B[1;33m]\u001B[0m\u001B[1;33m,\u001B[0m \u001B[0mparams\u001B[0m\u001B[1;33m[\u001B[0m\u001B[1;34m'b'\u001B[0m\u001B[1;33m]\u001B[0m\u001B[1;33m,\u001B[0m \u001B[0mx_train\u001B[0m\u001B[1;33m)\u001B[0m\u001B[1;33m\u001B[0m\u001B[1;33m\u001B[0m\u001B[0m\n",
      "\u001B[1;32m<ipython-input-14-cc66fa9f324e>\u001B[0m in \u001B[0;36moptimize\u001B[1;34m(w, b, X, y, num_iter, learning_rate)\u001B[0m\n\u001B[0;32m      3\u001B[0m \u001B[1;33m\u001B[0m\u001B[0m\n\u001B[0;32m      4\u001B[0m     \u001B[1;32mfor\u001B[0m \u001B[0mi\u001B[0m \u001B[1;32min\u001B[0m \u001B[0mrange\u001B[0m\u001B[1;33m(\u001B[0m\u001B[0mnum_iter\u001B[0m\u001B[1;33m)\u001B[0m\u001B[1;33m:\u001B[0m\u001B[1;33m\u001B[0m\u001B[1;33m\u001B[0m\u001B[0m\n\u001B[1;32m----> 5\u001B[1;33m         \u001B[0mgrads\u001B[0m\u001B[1;33m,\u001B[0m \u001B[0mcost\u001B[0m \u001B[1;33m=\u001B[0m \u001B[0mpropagate\u001B[0m\u001B[1;33m(\u001B[0m\u001B[0mw\u001B[0m\u001B[1;33m,\u001B[0m \u001B[0mb\u001B[0m\u001B[1;33m,\u001B[0m \u001B[0mX\u001B[0m\u001B[1;33m,\u001B[0m \u001B[0my\u001B[0m\u001B[1;33m)\u001B[0m\u001B[1;33m\u001B[0m\u001B[1;33m\u001B[0m\u001B[0m\n\u001B[0m\u001B[0;32m      6\u001B[0m \u001B[1;33m\u001B[0m\u001B[0m\n\u001B[0;32m      7\u001B[0m         \u001B[0mw\u001B[0m \u001B[1;33m=\u001B[0m \u001B[0mw\u001B[0m \u001B[1;33m-\u001B[0m \u001B[0mlearning_rate\u001B[0m \u001B[1;33m*\u001B[0m \u001B[0mgrads\u001B[0m\u001B[1;33m[\u001B[0m\u001B[1;34m'dw'\u001B[0m\u001B[1;33m]\u001B[0m\u001B[1;33m\u001B[0m\u001B[1;33m\u001B[0m\u001B[0m\n",
      "\u001B[1;32m<ipython-input-13-b63c18eeb729>\u001B[0m in \u001B[0;36mpropagate\u001B[1;34m(w, b, X, y)\u001B[0m\n\u001B[0;32m      6\u001B[0m     \u001B[0ma\u001B[0m \u001B[1;33m=\u001B[0m \u001B[0msigmoid\u001B[0m\u001B[1;33m(\u001B[0m\u001B[0mz\u001B[0m\u001B[1;33m)\u001B[0m\u001B[1;33m\u001B[0m\u001B[1;33m\u001B[0m\u001B[0m\n\u001B[0;32m      7\u001B[0m \u001B[1;33m\u001B[0m\u001B[0m\n\u001B[1;32m----> 8\u001B[1;33m     \u001B[0mcost\u001B[0m \u001B[1;33m=\u001B[0m \u001B[1;33m-\u001B[0m \u001B[1;36m1\u001B[0m\u001B[1;33m/\u001B[0m\u001B[0mm\u001B[0m \u001B[1;33m*\u001B[0m \u001B[0mnp\u001B[0m\u001B[1;33m.\u001B[0m\u001B[0msum\u001B[0m\u001B[1;33m(\u001B[0m\u001B[0my\u001B[0m \u001B[1;33m*\u001B[0m \u001B[0mnp\u001B[0m\u001B[1;33m.\u001B[0m\u001B[0mlog\u001B[0m\u001B[1;33m(\u001B[0m\u001B[0ma\u001B[0m\u001B[1;33m)\u001B[0m \u001B[1;33m+\u001B[0m \u001B[1;33m(\u001B[0m\u001B[1;36m1\u001B[0m\u001B[1;33m-\u001B[0m\u001B[0my\u001B[0m\u001B[1;33m)\u001B[0m \u001B[1;33m*\u001B[0m \u001B[0mnp\u001B[0m\u001B[1;33m.\u001B[0m\u001B[0mlog\u001B[0m\u001B[1;33m(\u001B[0m\u001B[1;36m1\u001B[0m\u001B[1;33m-\u001B[0m\u001B[0ma\u001B[0m\u001B[1;33m)\u001B[0m\u001B[1;33m)\u001B[0m\u001B[1;33m\u001B[0m\u001B[1;33m\u001B[0m\u001B[0m\n\u001B[0m\u001B[0;32m      9\u001B[0m     \u001B[1;32mif\u001B[0m \u001B[0mcost\u001B[0m \u001B[1;33m==\u001B[0m \u001B[0mnp\u001B[0m\u001B[1;33m.\u001B[0m\u001B[0mNaN\u001B[0m\u001B[1;33m:\u001B[0m\u001B[1;33m\u001B[0m\u001B[1;33m\u001B[0m\u001B[0m\n\u001B[0;32m     10\u001B[0m         \u001B[0mcost\u001B[0m \u001B[1;33m=\u001B[0m \u001B[0mnp\u001B[0m\u001B[1;33m.\u001B[0m\u001B[0minf\u001B[0m\u001B[1;33m\u001B[0m\u001B[1;33m\u001B[0m\u001B[0m\n",
      "\u001B[1;31mKeyboardInterrupt\u001B[0m: "
     ]
    }
   ],
   "source": [
    "lrates = [0.00025, 0.0002]\n",
    "steps = [1000001, 100001, 10001]\n",
    "\n",
    "for learning_rate in lrates:\n",
    "    for amount_steps in steps:\n",
    "        cnfm = get_cnf_matrix(learning_rate, amount_steps)\n",
    "        print('# Confusion matrix with learning_rate=' + str(learning_rate) +\n",
    "          ' and steps=' + str(steps) + ' -------')\n",
    "        print(cnfm)\n"
   ],
   "metadata": {
    "collapsed": false,
    "pycharm": {
     "name": "#%%\n"
    }
   }
  },
  {
   "cell_type": "markdown",
   "source": [
    "Answer:\n",
    " - With enough steps both learning rates arrive at the same confusion matrix.\n",
    " - Already after 10001 steps we get somewhat usable result (with less false positives for the lower learning rate.)\n",
    " - The number of false negatives decreases with more steps.\n",
    " - The number of false positives does not develop monotonically."
   ],
   "metadata": {
    "collapsed": false
   }
  }
 ],
 "metadata": {
  "kernelspec": {
   "name": "python3",
   "language": "python",
   "display_name": "Python 3"
  },
  "language_info": {
   "codemirror_mode": {
    "name": "ipython",
    "version": 2
   },
   "file_extension": ".py",
   "mimetype": "text/x-python",
   "name": "python",
   "nbconvert_exporter": "python",
   "pygments_lexer": "ipython2",
   "version": "2.7.6"
  }
 },
 "nbformat": 4,
 "nbformat_minor": 0
}