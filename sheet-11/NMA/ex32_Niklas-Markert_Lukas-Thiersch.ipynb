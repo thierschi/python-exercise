{
 "cells": [
  {
   "cell_type": "markdown",
   "metadata": {
    "collapsed": true,
    "pycharm": {
     "name": "#%% md\n"
    }
   },
   "source": [
    "# Sheet 11 Exercise 32 - Not complete/working\n",
    "**Niklas Markert** - 1611460 / bt709885 <br>\n",
    "**Lukas Thiersch** - 1607110 / bt708626\n"
   ]
  },
  {
   "cell_type": "code",
   "execution_count": 29,
   "outputs": [],
   "source": [
    "import pandas as pd\n",
    "import numpy as np\n",
    "import matplotlib.pyplot as plt\n",
    "from sklearn import metrics\n",
    "np.random.seed(0)"
   ],
   "metadata": {
    "collapsed": false,
    "pycharm": {
     "name": "#%%\n"
    }
   }
  },
  {
   "cell_type": "markdown",
   "source": [
    "## a)"
   ],
   "metadata": {
    "collapsed": false
   }
  },
  {
   "cell_type": "code",
   "execution_count": 14,
   "outputs": [
    {
     "data": {
      "text/plain": "<bound method NDFrame.head of      Pregnancies  Glucose  BloodPressure  SkinThickness  Insulin   BMI  \\\n0              6      148             72             35        0  33.6   \n1              1       85             66             29        0  26.6   \n2              8      183             64              0        0  23.3   \n3              1       89             66             23       94  28.1   \n4              0      137             40             35      168  43.1   \n..           ...      ...            ...            ...      ...   ...   \n763           10      101             76             48      180  32.9   \n764            2      122             70             27        0  36.8   \n765            5      121             72             23      112  26.2   \n766            1      126             60              0        0  30.1   \n767            1       93             70             31        0  30.4   \n\n     DiabetesPedigreeFunction  Age  Outcome  \n0                       0.627   50        1  \n1                       0.351   31        0  \n2                       0.672   32        1  \n3                       0.167   21        0  \n4                       2.288   33        1  \n..                        ...  ...      ...  \n763                     0.171   63        0  \n764                     0.340   27        0  \n765                     0.245   30        0  \n766                     0.349   47        1  \n767                     0.315   23        0  \n\n[768 rows x 9 columns]>"
     },
     "execution_count": 14,
     "metadata": {},
     "output_type": "execute_result"
    }
   ],
   "source": [
    "data = pd.read_csv('ex32_data.csv')\n",
    "data.head"
   ],
   "metadata": {
    "collapsed": false,
    "pycharm": {
     "name": "#%%\n"
    }
   }
  },
  {
   "cell_type": "code",
   "execution_count": 15,
   "outputs": [],
   "source": [
    "y = data.iloc[:, -1].to_numpy()\n",
    "X = data.iloc[:, :-1].to_numpy()"
   ],
   "metadata": {
    "collapsed": false,
    "pycharm": {
     "name": "#%%\n"
    }
   }
  },
  {
   "cell_type": "code",
   "execution_count": 16,
   "outputs": [],
   "source": [
    "m = X.shape[0]\n",
    "test_indices = np.random.choice(m, int(0.25*m), replace=False)\n",
    "all_indices = np.arange(m)\n",
    "train_indices = np.setdiff1d(all_indices, test_indices)"
   ],
   "metadata": {
    "collapsed": false,
    "pycharm": {
     "name": "#%%\n"
    }
   }
  },
  {
   "cell_type": "code",
   "execution_count": 17,
   "outputs": [],
   "source": [
    "train_set_x = X[train_indices].T\n",
    "train_set_y = y[train_indices].reshape(-1, 1).T"
   ],
   "metadata": {
    "collapsed": false,
    "pycharm": {
     "name": "#%%\n"
    }
   }
  },
  {
   "cell_type": "code",
   "execution_count": 18,
   "outputs": [],
   "source": [
    "test_set_x = X[test_indices].T\n",
    "test_set_y = y[test_indices].reshape(-1, 1).T"
   ],
   "metadata": {
    "collapsed": false,
    "pycharm": {
     "name": "#%%\n"
    }
   }
  },
  {
   "cell_type": "markdown",
   "source": [
    "## b)\n"
   ],
   "metadata": {
    "collapsed": false,
    "pycharm": {
     "name": "#%% md\n"
    }
   }
  },
  {
   "cell_type": "code",
   "execution_count": 19,
   "outputs": [],
   "source": [
    "def initialize_parameters(dim):\n",
    "    w = np.random.randn(dim, 1)\n",
    "    b = 0.\n",
    "    return w, b"
   ],
   "metadata": {
    "collapsed": false,
    "pycharm": {
     "name": "#%%\n"
    }
   }
  },
  {
   "cell_type": "code",
   "execution_count": 20,
   "outputs": [],
   "source": [
    "def sigmoid(z):\n",
    "    return 1 / (1 + np.exp(-z))"
   ],
   "metadata": {
    "collapsed": false,
    "pycharm": {
     "name": "#%%\n"
    }
   }
  },
  {
   "cell_type": "code",
   "execution_count": 21,
   "outputs": [],
   "source": [
    "def propagate(w, b, X, y):\n",
    "    m = X.shape[1]\n",
    "\n",
    "    # Calculate a\n",
    "    z = np.dot(w.T, X) + b\n",
    "    a = sigmoid(z)\n",
    "\n",
    "    cost = - 1/m * np.sum(y * np.log(a) + (1-y) * np.log(1-a))\n",
    "    if cost == np.NaN:\n",
    "        cost = np.inf\n",
    "\n",
    "    # Calculate dw, db\n",
    "    dw = 1/m * np.dot(X, (a - y).T)\n",
    "    db = 1/m * np.sum(a - y)\n",
    "\n",
    "    cost = np.squeeze(cost)\n",
    "\n",
    "    grads = {'dw': dw,\n",
    "            'db': db}\n",
    "\n",
    "    return grads, cost"
   ],
   "metadata": {
    "collapsed": false,
    "pycharm": {
     "name": "#%%\n"
    }
   }
  },
  {
   "cell_type": "code",
   "execution_count": 22,
   "outputs": [],
   "source": [
    "def optimize(w, b, X, y, num_iter, learning_rate):\n",
    "    costs = []\n",
    "\n",
    "    for i in range(num_iter):\n",
    "        grads, cost = propagate(w, b, X, y)\n",
    "\n",
    "        w = w - learning_rate * grads['dw']\n",
    "        b = b - learning_rate * grads['db']\n",
    "\n",
    "        if i % 10000 == 0:\n",
    "            costs.append(cost)\n",
    "\n",
    "    params = {'w': w,\n",
    "             'b': b}\n",
    "\n",
    "    quad_euc = np.sum(grads['dw']**2) + np.sum(grads['db']**2)\n",
    "\n",
    "    return params, grads, costs, quad_euc"
   ],
   "metadata": {
    "collapsed": false,
    "pycharm": {
     "name": "#%%\n"
    }
   }
  },
  {
   "cell_type": "code",
   "execution_count": 23,
   "outputs": [],
   "source": [
    "def predict(w, b, X):\n",
    "    a = sigmoid(np.dot(w.T, X) + b)\n",
    "    a[a>=0.5] = 1.\n",
    "    a[a<0.5] = 0.\n",
    "    return a"
   ],
   "metadata": {
    "collapsed": false,
    "pycharm": {
     "name": "#%%\n"
    }
   }
  },
  {
   "cell_type": "code",
   "execution_count": 24,
   "outputs": [],
   "source": [
    "def model(x_train, y_train, x_test, y_test, num_iter, learning_rate):\n",
    "    n = x_train.shape[0]\n",
    "    w, b = initialize_parameters(n)\n",
    "    params, grads, costs, quad_euc = optimize(w, b, x_train, y_train, num_iter, learning_rate)\n",
    "\n",
    "    y_hat_train = predict(params['w'], params['b'], x_train)\n",
    "    y_hat_test = predict(params['w'], params['b'], x_test)\n",
    "\n",
    "    print('training error: ', np.mean(np.abs(y_hat_train - y_train)))\n",
    "    print('test error: ', np.mean(np.abs(y_hat_test- y_test)))\n",
    "\n",
    "    return params, costs, quad_euc"
   ],
   "metadata": {
    "collapsed": false,
    "pycharm": {
     "name": "#%%\n"
    }
   }
  },
  {
   "cell_type": "markdown",
   "source": [
    "## c)"
   ],
   "metadata": {
    "collapsed": false,
    "pycharm": {
     "name": "#%% md\n"
    }
   }
  },
  {
   "cell_type": "code",
   "execution_count": 25,
   "outputs": [
    {
     "name": "stderr",
     "output_type": "stream",
     "text": [
      "<ipython-input-21-b63c18eeb729>:8: RuntimeWarning: divide by zero encountered in log\n",
      "  cost = - 1/m * np.sum(y * np.log(a) + (1-y) * np.log(1-a))\n",
      "<ipython-input-21-b63c18eeb729>:8: RuntimeWarning: invalid value encountered in multiply\n",
      "  cost = - 1/m * np.sum(y * np.log(a) + (1-y) * np.log(1-a))\n"
     ]
    },
    {
     "name": "stdout",
     "output_type": "stream",
     "text": [
      "training error:  0.24479166666666666\n",
      "test error:  0.19270833333333334\n"
     ]
    },
    {
     "data": {
      "text/plain": "{'w': array([[ 8.35015456e-02],\n        [ 2.48360946e-02],\n        [-1.70371977e-02],\n        [ 5.55270026e-03],\n        [-4.89815089e-04],\n        [ 5.12232202e-02],\n        [ 5.82139392e-01],\n        [ 1.13638048e-02]]),\n 'b': -5.174141104988104}"
     },
     "execution_count": 25,
     "metadata": {},
     "output_type": "execute_result"
    }
   ],
   "source": [
    "num_iter = 1000001\n",
    "learning_rate = 0.00025\n",
    "params, costs, quad_euc = model(train_set_x, train_set_y,\n",
    "                      test_set_x, test_set_y,\n",
    "                      num_iter, learning_rate)\n",
    "params"
   ],
   "metadata": {
    "collapsed": false,
    "pycharm": {
     "name": "#%%\n"
    }
   }
  },
  {
   "cell_type": "code",
   "execution_count": 27,
   "outputs": [
    {
     "data": {
      "text/plain": "[<matplotlib.lines.Line2D at 0x16e23d66a00>]"
     },
     "execution_count": 27,
     "metadata": {},
     "output_type": "execute_result"
    },
    {
     "data": {
      "text/plain": "<Figure size 432x288 with 1 Axes>",
      "image/png": "[encoded data removed]"
     },
     "metadata": {
      "needs_background": "light"
     },
     "output_type": "display_data"
    }
   ],
   "source": [
    "plt.plot(costs)\n"
   ],
   "metadata": {
    "collapsed": false,
    "pycharm": {
     "name": "#%%\n"
    }
   }
  },
  {
   "cell_type": "code",
   "execution_count": 28,
   "outputs": [
    {
     "data": {
      "text/plain": "0.00011362018483130357"
     },
     "execution_count": 28,
     "metadata": {},
     "output_type": "execute_result"
    }
   ],
   "source": [
    "quad_euc\n"
   ],
   "metadata": {
    "collapsed": false,
    "pycharm": {
     "name": "#%%\n"
    }
   }
  },
  {
   "cell_type": "markdown",
   "source": [
    "## d)\n",
    "\n"
   ],
   "metadata": {
    "collapsed": false,
    "pycharm": {
     "name": "#%% md\n"
    }
   }
  },
  {
   "cell_type": "code",
   "execution_count": 30,
   "outputs": [],
   "source": [
    "pred_test = predict(params['w'], params['b'], test_set_x)"
   ],
   "metadata": {
    "collapsed": false,
    "pycharm": {
     "name": "#%%\n"
    }
   }
  },
  {
   "cell_type": "code",
   "execution_count": 32,
   "outputs": [
    {
     "name": "stdout",
     "output_type": "stream",
     "text": [
      "[[119  11]\n",
      " [ 26  36]]\n"
     ]
    }
   ],
   "source": [
    "cnf_matrix = metrics.confusion_matrix(np.squeeze(test_set_y), np.squeeze(pred_test))\n",
    "print(cnf_matrix)"
   ],
   "metadata": {
    "collapsed": false,
    "pycharm": {
     "name": "#%%\n"
    }
   }
  },
  {
   "cell_type": "markdown",
   "source": [
    "## e)\n",
    "TODO\n"
   ],
   "metadata": {
    "collapsed": false,
    "pycharm": {
     "name": "#%% md\n"
    }
   }
  }
 ],
 "metadata": {
  "kernelspec": {
   "name": "python3",
   "language": "python",
   "display_name": "Python 3"
  },
  "language_info": {
   "codemirror_mode": {
    "name": "ipython",
    "version": 2
   },
   "file_extension": ".py",
   "mimetype": "text/x-python",
   "name": "python",
   "nbconvert_exporter": "python",
   "pygments_lexer": "ipython2",
   "version": "2.7.6"
  }
 },
 "nbformat": 4,
 "nbformat_minor": 0
}