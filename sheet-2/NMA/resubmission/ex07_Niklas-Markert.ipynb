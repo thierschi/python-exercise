{
 "cells": [
  {
   "cell_type": "markdown",
   "source": [
    "# Sheet 2 Exercise 7 - Resubmission\n",
    "**Niklas Markert** - 1611460 / bt709885"
   ],
   "metadata": {
    "collapsed": false
   }
  },
  {
   "cell_type": "markdown",
   "source": [
    "## a)\n",
    "You should use a ...\n",
    " - **list**, when you want to store an amount of values, which you can dynamically change and which can be dynamically\n",
    " increase and decreased in size.\n",
    " - **tuple**, when you want to store a specific amount of specific values, which can't be changed after the tuple got\n",
    " created.\n",
    " - **dict**, when you want to store an amount of values, which should be directly and fast accessible through a specific\n",
    "  key.\n"
   ],
   "metadata": {
    "collapsed": false,
    "pycharm": {
     "name": "#%% md\n"
    }
   }
  },
  {
   "cell_type": "markdown",
   "source": [
    "## b)\n",
    "A list can't be used as a key in a dictionary, because keys of a dictionary must be immutable. This is so, because if\n",
    " you would change the value of an object which you used as a key in a dict, you would lose track of the value associated\n",
    " with this key. <br>\n",
    "Possible as keys are for example: int, float, string, tuple.\n"
   ],
   "metadata": {
    "collapsed": false
   }
  },
  {
   "cell_type": "code",
   "execution_count": 8,
   "outputs": [
    {
     "ename": "TypeError",
     "evalue": "unhashable type: 'list'",
     "output_type": "error",
     "traceback": [
      "\u001B[1;31m---------------------------------------------------------------------------\u001B[0m",
      "\u001B[1;31mTypeError\u001B[0m                                 Traceback (most recent call last)",
      "\u001B[1;32m<ipython-input-8-98f73a181f54>\u001B[0m in \u001B[0;36m<module>\u001B[1;34m\u001B[0m\n\u001B[0;32m      1\u001B[0m \u001B[0md\u001B[0m \u001B[1;33m=\u001B[0m \u001B[1;33m{\u001B[0m\u001B[1;36m42\u001B[0m \u001B[1;33m:\u001B[0m \u001B[1;34m'This'\u001B[0m\u001B[1;33m,\u001B[0m \u001B[1;36m3.3\u001B[0m \u001B[1;33m:\u001B[0m \u001B[1;34m'is'\u001B[0m\u001B[1;33m,\u001B[0m \u001B[1;34m'py'\u001B[0m \u001B[1;33m:\u001B[0m \u001B[1;34m'an'\u001B[0m\u001B[1;33m,\u001B[0m \u001B[1;33m(\u001B[0m\u001B[1;33m-\u001B[0m\u001B[1;36m1\u001B[0m\u001B[1;33m,\u001B[0m \u001B[1;36m1\u001B[0m\u001B[1;33m)\u001B[0m \u001B[1;33m:\u001B[0m \u001B[1;34m'example'\u001B[0m\u001B[1;33m}\u001B[0m\u001B[1;33m\u001B[0m\u001B[1;33m\u001B[0m\u001B[0m\n\u001B[1;32m----> 2\u001B[1;33m \u001B[0md\u001B[0m\u001B[1;33m[\u001B[0m\u001B[1;33m[\u001B[0m\u001B[1;34m'a'\u001B[0m\u001B[1;33m,\u001B[0m\u001B[1;34m'list'\u001B[0m\u001B[1;33m]\u001B[0m\u001B[1;33m]\u001B[0m \u001B[1;33m=\u001B[0m \u001B[1;34m'dictionary'\u001B[0m \u001B[1;31m# You get an error, because a list is not a valid key\u001B[0m\u001B[1;33m\u001B[0m\u001B[1;33m\u001B[0m\u001B[0m\n\u001B[0m",
      "\u001B[1;31mTypeError\u001B[0m: unhashable type: 'list'"
     ]
    }
   ],
   "source": [
    "d = {42 : 'This', 3.3 : 'is', 'py' : 'an', (-1, 1) : 'example'}\n",
    "d[['a','list']] = 'dictionary' # You get an error, because a list is not a valid key"
   ],
   "metadata": {
    "collapsed": false,
    "pycharm": {
     "name": "#%%\n"
    }
   }
  },
  {
   "cell_type": "markdown",
   "source": [
    "## c)\n",
    "Advantages of a dictionary compared to a list:\n",
    " - access to elements via a self-defined key can be more convenient than just index access\n",
    " - the 'in' operation is much faster in a dictionary than in a list, especially if the list/dict gets huge"
   ],
   "metadata": {
    "collapsed": false,
    "pycharm": {
     "name": "#%% md\n"
    }
   }
  },
  {
   "cell_type": "markdown",
   "source": [
    "## d)\n",
    "No there isn't a difference between range(10), range(0, 10) and range(0, 10, 1)."
   ],
   "metadata": {
    "collapsed": false
   }
  },
  {
   "cell_type": "code",
   "execution_count": 13,
   "outputs": [
    {
     "data": {
      "text/plain": "[0, 1, 2, 3, 4, 5, 6, 7, 8, 9]"
     },
     "execution_count": 13,
     "metadata": {},
     "output_type": "execute_result"
    }
   ],
   "source": [
    "list(range(10)) # This contains all positive int values up to 10 (excluded)"
   ],
   "metadata": {
    "collapsed": false,
    "pycharm": {
     "name": "#%%\n"
    }
   }
  },
  {
   "cell_type": "code",
   "execution_count": 14,
   "outputs": [
    {
     "data": {
      "text/plain": "[0, 1, 2, 3, 4, 5, 6, 7, 8, 9]"
     },
     "execution_count": 14,
     "metadata": {},
     "output_type": "execute_result"
    }
   ],
   "source": [
    "list(range(0,10)) # This contains int values from 0 (included) to 10 (excluded)"
   ],
   "metadata": {
    "collapsed": false,
    "pycharm": {
     "name": "#%%\n"
    }
   }
  },
  {
   "cell_type": "code",
   "execution_count": 15,
   "outputs": [
    {
     "data": {
      "text/plain": "[0, 1, 2, 3, 4, 5, 6, 7, 8, 9]"
     },
     "execution_count": 15,
     "metadata": {},
     "output_type": "execute_result"
    }
   ],
   "source": [
    "# The first argument (0) determines where the range begins and is included in the range\n",
    "# The second argument (10) determines where the range ends and is not included\n",
    "# The third argument (1) determines the step size of the values in the range\n",
    "# -> So this contains the range which starts by 0 (included) and ends by 10 (excluded)\n",
    "#    and has the step size of 1\n",
    "list(range(0, 10, 1))"
   ],
   "metadata": {
    "collapsed": false,
    "pycharm": {
     "name": "#%%\n"
    }
   }
  }
 ],
 "metadata": {
  "kernelspec": {
   "display_name": "Python 3",
   "language": "python",
   "name": "python3"
  },
  "language_info": {
   "codemirror_mode": {
    "name": "ipython",
    "version": 2
   },
   "file_extension": ".py",
   "mimetype": "text/x-python",
   "name": "python",
   "nbconvert_exporter": "python",
   "pygments_lexer": "ipython2",
   "version": "2.7.6"
  }
 },
 "nbformat": 4,
 "nbformat_minor": 0
}