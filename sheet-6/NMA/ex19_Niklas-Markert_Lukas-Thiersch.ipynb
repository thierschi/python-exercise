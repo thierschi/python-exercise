{
 "cells": [
  {
   "cell_type": "markdown",
   "metadata": {
    "collapsed": true,
    "pycharm": {
     "name": "#%% md\n"
    }
   },
   "source": [
    "# Sheet 6 Exercise 19\n",
    "**Niklas Markert** - 1611460 / bt709885 <br>\n",
    "**Lukas Thiersch** - 1607110 / bt708626"
   ]
  },
  {
   "cell_type": "code",
   "execution_count": 16,
   "outputs": [],
   "source": [
    "import math\n",
    "\n",
    "import numpy as np\n",
    "import math\n",
    "np.random.seed(0)"
   ],
   "metadata": {
    "collapsed": false,
    "pycharm": {
     "name": "#%%\n"
    }
   }
  },
  {
   "cell_type": "markdown",
   "source": [
    "## a)\n"
   ],
   "metadata": {
    "collapsed": false,
    "pycharm": {
     "name": "#%% md\n"
    }
   }
  },
  {
   "cell_type": "code",
   "execution_count": 5,
   "outputs": [
    {
     "data": {
      "text/plain": "array([ 0,  1,  2,  3,  4,  5,  6,  7,  8,  9, 10, 11, 12, 13, 14, 15])"
     },
     "execution_count": 5,
     "metadata": {},
     "output_type": "execute_result"
    }
   ],
   "source": [
    "X = np.arange(16)\n",
    "X"
   ],
   "metadata": {
    "collapsed": false,
    "pycharm": {
     "name": "#%%\n"
    }
   }
  },
  {
   "cell_type": "code",
   "execution_count": 8,
   "outputs": [
    {
     "data": {
      "text/plain": "array([0.        , 1.        , 1.41421356, 1.73205081, 2.        ,\n       2.23606798, 2.44948974, 2.64575131, 2.82842712, 3.        ,\n       3.16227766, 3.31662479, 3.46410162, 3.60555128, 3.74165739,\n       3.87298335])"
     },
     "execution_count": 8,
     "metadata": {},
     "output_type": "execute_result"
    }
   ],
   "source": [
    "X_sqrt = np.sqrt(X)\n",
    "X_sqrt"
   ],
   "metadata": {
    "collapsed": false,
    "pycharm": {
     "name": "#%%\n"
    }
   }
  },
  {
   "cell_type": "code",
   "execution_count": 7,
   "outputs": [
    {
     "data": {
      "text/plain": "array([  0,   1,   4,   9,  16,  25,  36,  49,  64,  81, 100, 121, 144,\n       169, 196, 225], dtype=int32)"
     },
     "execution_count": 7,
     "metadata": {},
     "output_type": "execute_result"
    }
   ],
   "source": [
    "X_2 = np.power(X, 2)\n",
    "X_2"
   ],
   "metadata": {
    "collapsed": false,
    "pycharm": {
     "name": "#%%\n"
    }
   }
  },
  {
   "cell_type": "code",
   "execution_count": 10,
   "outputs": [
    {
     "data": {
      "text/plain": "array([[  0.        ,   1.        ,   1.41421356,   1.73205081,\n          2.        ,   2.23606798,   2.44948974,   2.64575131,\n          2.82842712,   3.        ,   3.16227766,   3.31662479,\n          3.46410162,   3.60555128,   3.74165739,   3.87298335],\n       [  0.        ,   1.        ,   4.        ,   9.        ,\n         16.        ,  25.        ,  36.        ,  49.        ,\n         64.        ,  81.        , 100.        , 121.        ,\n        144.        , 169.        , 196.        , 225.        ]])"
     },
     "execution_count": 10,
     "metadata": {},
     "output_type": "execute_result"
    }
   ],
   "source": [
    "XX = np.vstack([X_sqrt, X_2])\n",
    "XX"
   ],
   "metadata": {
    "collapsed": false,
    "pycharm": {
     "name": "#%%\n"
    }
   }
  },
  {
   "cell_type": "markdown",
   "source": [
    "## b)\n"
   ],
   "metadata": {
    "collapsed": false,
    "pycharm": {
     "name": "#%% md\n"
    }
   }
  },
  {
   "cell_type": "code",
   "execution_count": 40,
   "outputs": [
    {
     "data": {
      "text/plain": "array([[ 4.83010031,  4.6815175 ,  5.12725688,  4.30253911,  5.46184907],\n       [ 3.77598777,  2.06962181,  2.26957304,  2.00916577,  4.06797418],\n       [ 0.46784007, -0.20551464,  5.05451248,  5.56695603,  3.06066533],\n       ...,\n       [ 2.7899773 ,  4.98559508,  7.69826654,  3.55350925,  9.94027225],\n       [ 4.09454977,  1.34773511,  5.50699763,  3.86975415,  4.19645005],\n       [ 3.83892462,  1.80651427,  1.65546112,  4.29044924,  7.35676528]])"
     },
     "execution_count": 40,
     "metadata": {},
     "output_type": "execute_result"
    }
   ],
   "source": [
    "mu = 4\n",
    "sigma = math.sqrt(5)\n",
    "M = np.random.randn(1000, 5) * sigma + mu\n",
    "M"
   ],
   "metadata": {
    "collapsed": false,
    "pycharm": {
     "name": "#%%\n"
    }
   }
  },
  {
   "cell_type": "markdown",
   "source": [
    "## c)\n"
   ],
   "metadata": {
    "collapsed": false,
    "pycharm": {
     "name": "#%% md\n"
    }
   }
  },
  {
   "cell_type": "code",
   "execution_count": 41,
   "outputs": [
    {
     "data": {
      "text/plain": "array([[ 4.83010031,  4.6815175 ,  5.12725688,  4.30253911,  5.46184907],\n       [ 3.77598777,  2.06962181,  2.26957304,  2.00916577,  4.06797418],\n       [ 0.46784007, -0.20551464,  5.05451248,  5.56695603,  3.06066533],\n       ...,\n       [ 2.7899773 ,  4.98559508,  7.69826654,  3.55350925,  9.94027225],\n       [ 4.09454977,  1.34773511,  5.50699763,  3.86975415,  4.19645005],\n       [ 3.83892462,  1.80651427,  1.65546112,  4.29044924,  7.35676528]])"
     },
     "execution_count": 41,
     "metadata": {},
     "output_type": "execute_result"
    }
   ],
   "source": [
    "# i)\n",
    "with open('file1.npy', 'wb') as f:\n",
    "    np.save(f, M)\n",
    "\n",
    "with open('file1.npy', 'rb') as f:\n",
    "    M_1 = np.load(f)\n",
    "\n",
    "M_1"
   ],
   "metadata": {
    "collapsed": false,
    "pycharm": {
     "name": "#%%\n"
    }
   }
  },
  {
   "cell_type": "code",
   "execution_count": 42,
   "outputs": [
    {
     "data": {
      "text/plain": "array([[ 4.83010031,  4.6815175 ,  5.12725688,  4.30253911,  5.46184907],\n       [ 3.77598777,  2.06962181,  2.26957304,  2.00916577,  4.06797418],\n       [ 0.46784007, -0.20551464,  5.05451248,  5.56695603,  3.06066533],\n       ...,\n       [ 2.7899773 ,  4.98559508,  7.69826654,  3.55350925,  9.94027225],\n       [ 4.09454977,  1.34773511,  5.50699763,  3.86975415,  4.19645005],\n       [ 3.83892462,  1.80651427,  1.65546112,  4.29044924,  7.35676528]])"
     },
     "execution_count": 42,
     "metadata": {},
     "output_type": "execute_result"
    }
   ],
   "source": [
    "# ii)\n",
    "with open('file2.txt', 'wb') as f:\n",
    "    np.savetxt(f, M)\n",
    "\n",
    "with open('file2.txt', 'rb') as f:\n",
    "    M_2 = np.loadtxt(f)\n",
    "\n",
    "M_2"
   ],
   "metadata": {
    "collapsed": false,
    "pycharm": {
     "name": "#%%\n"
    }
   }
  },
  {
   "cell_type": "markdown",
   "source": [
    "In my case the file1.npy as a size of 40KB in contrast to the file2.txt which has 123KB which is more than\n",
    "3 times the size of the first file.\n"
   ],
   "metadata": {
    "collapsed": false,
    "pycharm": {
     "name": "#%% md\n"
    }
   }
  },
  {
   "cell_type": "markdown",
   "source": [
    "## d)\n"
   ],
   "metadata": {
    "collapsed": false,
    "pycharm": {
     "name": "#%% md\n"
    }
   }
  },
  {
   "cell_type": "code",
   "execution_count": 43,
   "outputs": [
    {
     "data": {
      "text/plain": "array([-4.92853238, -4.14665375, -3.40404927, -3.56336045, -4.00746199])"
     },
     "execution_count": 43,
     "metadata": {},
     "output_type": "execute_result"
    }
   ],
   "source": [
    "# minimum value\n",
    "M.min(axis=0)"
   ],
   "metadata": {
    "collapsed": false,
    "pycharm": {
     "name": "#%%\n"
    }
   }
  },
  {
   "cell_type": "code",
   "execution_count": 44,
   "outputs": [
    {
     "data": {
      "text/plain": "array([10.86565945, 11.26545761, 11.33725868, 10.17587354, 10.45679946])"
     },
     "execution_count": 44,
     "metadata": {},
     "output_type": "execute_result"
    }
   ],
   "source": [
    "# maximum value\n",
    "M.max(axis=0)"
   ],
   "metadata": {
    "collapsed": false,
    "pycharm": {
     "name": "#%%\n"
    }
   }
  },
  {
   "cell_type": "code",
   "execution_count": 46,
   "outputs": [
    {
     "data": {
      "text/plain": "array([4.02189   , 3.97598944, 3.94854758, 4.04132272, 3.92011044])"
     },
     "execution_count": 46,
     "metadata": {},
     "output_type": "execute_result"
    }
   ],
   "source": [
    "# mean\n",
    "M.mean(axis=0)"
   ],
   "metadata": {
    "collapsed": false,
    "pycharm": {
     "name": "#%%\n"
    }
   }
  },
  {
   "cell_type": "code",
   "execution_count": 47,
   "outputs": [
    {
     "data": {
      "text/plain": "array([5.29573092, 5.28524197, 5.37164931, 4.75554365, 4.8896342 ])"
     },
     "execution_count": 47,
     "metadata": {},
     "output_type": "execute_result"
    }
   ],
   "source": [
    "# variance\n",
    "M.var(axis=0)"
   ],
   "metadata": {
    "collapsed": false,
    "pycharm": {
     "name": "#%%\n"
    }
   }
  },
  {
   "cell_type": "markdown",
   "source": [
    "When you compare the calculated mean and variance values for each row with the parameters in b) you notice\n",
    "that they are approximately the same, as they should be.\n"
   ],
   "metadata": {
    "collapsed": false,
    "pycharm": {
     "name": "#%% md\n"
    }
   }
  },
  {
   "cell_type": "markdown",
   "source": [
    "## e)"
   ],
   "metadata": {
    "collapsed": false,
    "pycharm": {
     "name": "#%% md\n"
    }
   }
  },
  {
   "cell_type": "code",
   "execution_count": 53,
   "outputs": [
    {
     "data": {
      "text/plain": "array([[ 4.83010031,  4.6815175 ,  4.30253911,  5.46184907],\n       [ 3.77598777,  2.06962181,  2.00916577,  4.06797418],\n       [ 0.46784007, -0.20551464,  5.56695603,  3.06066533],\n       ...,\n       [ 2.7899773 ,  4.98559508,  3.55350925,  9.94027225],\n       [ 4.09454977,  1.34773511,  3.86975415,  4.19645005],\n       [ 3.83892462,  1.80651427,  4.29044924,  7.35676528]])"
     },
     "execution_count": 53,
     "metadata": {},
     "output_type": "execute_result"
    }
   ],
   "source": [
    "M2 = np.hstack([ M[:, :2], M[:, 3:] ])\n",
    "M2"
   ],
   "metadata": {
    "collapsed": false,
    "pycharm": {
     "name": "#%%\n"
    }
   }
  },
  {
   "cell_type": "markdown",
   "source": [
    "## f)\n"
   ],
   "metadata": {
    "collapsed": false,
    "pycharm": {
     "name": "#%% md\n"
    }
   }
  },
  {
   "cell_type": "code",
   "execution_count": 54,
   "outputs": [
    {
     "data": {
      "text/plain": "array([-2.05514644e-01, -7.74462368e-01, -9.60917218e-01, -1.34807365e+00,\n       -7.18093573e-01, -4.54136923e-01, -4.00746199e+00, -4.62775814e-01,\n       -4.66390857e-01, -1.30102900e+00, -1.03181307e+00, -1.25525519e-02,\n       -2.22064667e+00, -2.49096816e+00, -3.01536005e-01, -4.88275363e-02,\n       -1.05069557e+00, -8.81077523e-01, -2.41135510e+00, -1.67913678e+00,\n       -6.25552325e-01, -1.03505687e+00, -2.22481480e+00, -9.84726961e-01,\n       -8.66413489e-01, -6.00763820e-01, -1.65742314e+00, -6.99013121e-01,\n       -4.28742310e-01, -3.43552009e-01, -2.69550393e-01, -1.94484320e-02,\n       -1.37159069e+00, -9.15121027e-01, -1.99646959e+00, -4.27488364e-01,\n       -2.65277485e+00, -1.61796376e+00, -2.02515365e+00, -1.97716875e+00,\n       -3.40057443e+00, -6.29925128e-02, -1.46470411e-01, -1.42645507e+00,\n       -2.61850902e+00, -7.34229238e-01, -1.23702400e+00, -7.61463867e-01,\n       -3.61385047e-01, -2.66949837e-02, -8.20087027e-02, -5.62332024e-01,\n       -4.03141018e-02, -4.14295389e-01, -2.99309645e-01, -2.59196185e+00,\n       -6.47701947e-02, -4.74656321e-01, -9.82722800e-01, -1.15958828e-01,\n       -1.53997560e+00, -4.23012790e-01, -3.66078283e-01, -5.64538827e-01,\n       -2.64407265e-01, -1.20761419e+00, -5.34182003e-02, -6.35410797e-01,\n       -8.99897050e-01, -1.85689986e+00, -3.88341792e-01, -1.08171572e+00,\n       -1.13274814e+00, -1.21107601e+00, -1.69122736e+00, -1.67550081e+00,\n       -1.75917114e+00, -1.32930980e-02, -5.05772165e-01, -1.25760609e+00,\n       -1.02064267e+00, -8.37552213e-01, -2.48516428e+00, -2.91422273e+00,\n       -9.23791020e-01, -4.21088834e-01, -6.23510727e-01, -7.14555926e-01,\n       -3.98741894e-01, -7.48387802e-01, -2.89958379e-01, -4.11693092e-01,\n       -1.22184482e+00, -1.96152692e+00, -1.44939444e+00, -6.58410706e-01,\n       -3.02580839e-01, -2.70016604e-01, -2.24515308e+00, -1.63382988e+00,\n       -9.30117804e-01, -1.10935940e-01, -4.86449499e-01, -1.34611591e+00,\n       -1.08872239e-01, -2.81896072e+00, -4.07790389e-01, -1.39130621e-01,\n       -4.92853238e+00, -2.76560820e-01, -5.04322303e-01, -8.88469836e-01,\n       -1.76282187e-01, -4.14665375e+00, -1.02017218e+00, -3.74404857e-01,\n       -5.49330516e-01, -1.68257969e+00, -2.54166950e-02, -3.28369287e-01,\n       -3.11601043e-02, -1.76218230e+00, -4.12152009e-02, -1.73839618e-01,\n       -4.09984560e-02, -1.57858908e+00, -1.95007264e-01, -2.64630368e-01,\n       -4.80532117e-02, -9.44479335e-01, -6.56064525e-01, -1.44948995e+00,\n       -1.36678552e+00, -2.18700546e-01, -2.93675025e-01, -2.64508283e-01,\n       -8.76365278e-02, -2.57117357e-01, -2.18565804e+00, -2.82042372e+00,\n       -2.31012559e+00, -9.87688677e-02, -2.93261499e+00, -1.27499164e+00,\n       -1.76306482e-01, -1.65115684e+00, -1.98253565e-02, -2.91008129e-02,\n       -4.43746666e-01, -1.00848382e+00, -3.34349269e+00, -2.81359822e-01,\n       -1.58412401e+00, -1.80935937e+00, -2.17140372e+00, -1.96336260e+00,\n       -7.15456078e-01, -3.47026533e+00, -5.68457122e-01, -3.88733627e-01,\n       -9.09798943e-01, -3.12688838e-01, -4.12872837e-01, -1.81636520e-01,\n       -3.80945418e-01, -1.19503510e+00, -6.80442987e-01, -2.68648889e+00,\n       -6.17275639e-01, -1.42080192e-01, -8.68647518e-01, -3.75039027e-01,\n       -3.34076321e-02, -4.76035955e-01, -3.07782636e+00, -1.19902532e+00,\n       -1.83047674e+00, -4.27916590e-03, -8.47929525e-01, -3.40404927e+00,\n       -1.38927708e+00, -1.43448271e-01, -2.56611448e-01, -8.09136559e-01,\n       -2.16398994e-01, -2.63546264e+00, -8.60671174e-02, -4.18192337e-01,\n       -1.91987626e+00, -5.19460277e-02, -8.70136230e-02, -2.72774685e+00,\n       -9.22495304e-01, -1.92450812e+00, -1.28808696e+00, -7.88795264e-01,\n       -1.36679842e+00, -1.28208840e+00, -3.56336045e+00, -2.90067969e+00,\n       -1.99836645e-01, -3.77366383e-01, -1.90874501e-01, -7.19923514e-01,\n       -1.32798352e-01, -1.26016231e+00, -1.99672740e+00, -1.06637423e+00])"
     },
     "execution_count": 54,
     "metadata": {},
     "output_type": "execute_result"
    }
   ],
   "source": [
    "M3 = M[M < 0]\n",
    "M3"
   ],
   "metadata": {
    "collapsed": false,
    "pycharm": {
     "name": "#%%\n"
    }
   }
  },
  {
   "cell_type": "code",
   "execution_count": 56,
   "outputs": [
    {
     "data": {
      "text/plain": "array([[ 0.        ,  0.        ,  0.        ,  0.        ,  0.        ],\n       [ 0.        ,  0.        ,  0.        ,  0.        ,  0.        ],\n       [ 0.        , -0.20551464,  0.        ,  0.        ,  0.        ],\n       ...,\n       [ 0.        ,  0.        ,  0.        ,  0.        ,  0.        ],\n       [ 0.        ,  0.        ,  0.        ,  0.        ,  0.        ],\n       [ 0.        ,  0.        ,  0.        ,  0.        ,  0.        ]])"
     },
     "execution_count": 56,
     "metadata": {},
     "output_type": "execute_result"
    }
   ],
   "source": [
    "M[M > 0] = 0\n",
    "M"
   ],
   "metadata": {
    "collapsed": false,
    "pycharm": {
     "name": "#%%\n"
    }
   }
  }
 ],
 "metadata": {
  "kernelspec": {
   "display_name": "Python 3",
   "language": "python",
   "name": "python3"
  },
  "language_info": {
   "codemirror_mode": {
    "name": "ipython",
    "version": 2
   },
   "file_extension": ".py",
   "mimetype": "text/x-python",
   "name": "python",
   "nbconvert_exporter": "python",
   "pygments_lexer": "ipython2",
   "version": "2.7.6"
  }
 },
 "nbformat": 4,
 "nbformat_minor": 0
}