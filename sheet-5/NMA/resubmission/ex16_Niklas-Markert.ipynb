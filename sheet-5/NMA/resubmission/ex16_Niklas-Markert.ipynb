{
 "cells": [
  {
   "cell_type": "markdown",
   "metadata": {
    "collapsed": true,
    "pycharm": {
     "name": "#%% md\n"
    }
   },
   "source": [
    "# Sheet 5 Exercise 16 - Resubmission\n",
    "**Niklas Markert** - 1611460 / bt709885"
   ]
  },
  {
   "cell_type": "code",
   "execution_count": 1,
   "outputs": [
    {
     "name": "stdout",
     "output_type": "stream",
     "text": [
      "1.19.2\n"
     ]
    }
   ],
   "source": [
    "import numpy as np\n",
    "print(np.__version__)"
   ],
   "metadata": {
    "collapsed": false,
    "pycharm": {
     "name": "#%%\n"
    }
   }
  },
  {
   "cell_type": "markdown",
   "source": [
    "## a)\n"
   ],
   "metadata": {
    "collapsed": false,
    "pycharm": {
     "name": "#%% md\n"
    }
   }
  },
  {
   "cell_type": "code",
   "execution_count": 5,
   "outputs": [
    {
     "name": "stdout",
     "output_type": "stream",
     "text": [
      "v1: [[1 4 7]]\n",
      "v2: [[1 4 7]]\n"
     ]
    }
   ],
   "source": [
    "v1 = np.array([1, 4, 7])\n",
    "v2 = np.array([[1, 4, 7]])\n",
    "v1 = np.reshape(v1, v2.shape)\n",
    "print('v1: ' + str(v1))\n",
    "print('v2: ' + str(v2))"
   ],
   "metadata": {
    "collapsed": false,
    "pycharm": {
     "name": "#%%\n"
    }
   }
  },
  {
   "cell_type": "markdown",
   "source": [
    "After the use of reshape, v1, which was originally a rank 1 array, now is a rank 2 array with the same dimension\n",
    "as v2. So because the values of the two arrays were the same the result after reshaping v1 looks the same as v2."
   ],
   "metadata": {
    "collapsed": false
   }
  },
  {
   "cell_type": "markdown",
   "source": [
    "## b)"
   ],
   "metadata": {
    "collapsed": false
   }
  },
  {
   "cell_type": "code",
   "execution_count": 7,
   "outputs": [
    {
     "name": "stdout",
     "output_type": "stream",
     "text": [
      "[[9]\n",
      " [8]\n",
      " [7]]\n"
     ]
    }
   ],
   "source": [
    "v = np.array([[9, 8, 7]]).T\n",
    "print(v)"
   ],
   "metadata": {
    "collapsed": false,
    "pycharm": {
     "name": "#%%\n"
    }
   }
  },
  {
   "cell_type": "code",
   "execution_count": 8,
   "outputs": [
    {
     "name": "stdout",
     "output_type": "stream",
     "text": [
      "[[3 5 7]\n",
      " [4 6 8]]\n"
     ]
    }
   ],
   "source": [
    "M = np.array([[3, 4], [5, 6], [7, 8]]).T\n",
    "print(M)"
   ],
   "metadata": {
    "collapsed": false,
    "pycharm": {
     "name": "#%%\n"
    }
   }
  },
  {
   "cell_type": "markdown",
   "source": [
    "## c)"
   ],
   "metadata": {
    "collapsed": false,
    "pycharm": {
     "name": "#%% md\n"
    }
   }
  },
  {
   "cell_type": "code",
   "execution_count": 12,
   "outputs": [
    {
     "name": "stdout",
     "output_type": "stream",
     "text": [
      "[ True  True  True]\n",
      "True\n"
     ]
    }
   ],
   "source": [
    "v1 = np.array([1, 4, 7])\n",
    "print(v1==v1.transpose())\n",
    "print((v1==v1.transpose()).all())"
   ],
   "metadata": {
    "collapsed": false,
    "pycharm": {
     "name": "#%%\n"
    }
   }
  },
  {
   "cell_type": "markdown",
   "source": [
    "Actually the code shows if a matrix (or vector) is symmetric. <br> A matrix A is symmetric, when it is the same as\n",
    "its transpose, so A==A.transpose(). A vector therefore cannot be symmetric, because if you transpose a vector it\n",
    "doesn't have the same shape, so it can't be identical. <br>\n",
    "This code above compares the vector v1 with its transposed vector (v1T). So if v1 would be a matrix, this would be a\n",
    "check if the matrix is symmetric. What the code does is, he first outputs for each value of the vectors if they are the\n",
    "same as a vector of bool values. After that it outputs if they are completely the same vectors, as a single bool\n",
    "value. <br>\n",
    "The result of this output can be misleading, because it says that v1 and v1T would be exactly the same vectors, which\n",
    "would mean that v1 is symmetric, but that's in fact not true. The reason, why it outputs that they are the same, is\n",
    "that v1 is defined as a rank 1 array, which shouldn't be used for calculations. If you for example replace the v1 vector\n",
    "with a rank 2 array it in fact outputs the expected results:\n"
   ],
   "metadata": {
    "collapsed": false,
    "pycharm": {
     "name": "#%% md\n"
    }
   }
  },
  {
   "cell_type": "code",
   "execution_count": 13,
   "outputs": [
    {
     "name": "stdout",
     "output_type": "stream",
     "text": [
      "[[ True False False]\n",
      " [False  True False]\n",
      " [False False  True]]\n",
      "False\n"
     ]
    }
   ],
   "source": [
    "v2 = np.array([[1, 4, 7]]) # v2 now is a rank 2 array\n",
    "print(v2==v2.transpose())\n",
    "print((v2==v2.transpose()).all())\n"
   ],
   "metadata": {
    "collapsed": false,
    "pycharm": {
     "name": "#%%\n"
    }
   }
  },
  {
   "cell_type": "markdown",
   "source": [
    "## d)\n"
   ],
   "metadata": {
    "collapsed": false,
    "pycharm": {
     "name": "#%% md\n"
    }
   }
  },
  {
   "cell_type": "code",
   "execution_count": 23,
   "outputs": [
    {
     "name": "stdout",
     "output_type": "stream",
     "text": [
      "14.0\n",
      "<class 'numpy.str_'>\n"
     ]
    }
   ],
   "source": [
    "v3 = np.array(['a', 1, 4.0])\n",
    "print(v3[1] + v3[2])\n",
    "print(type(v3[1]))"
   ],
   "metadata": {
    "collapsed": false,
    "pycharm": {
     "name": "#%%\n"
    }
   }
  },
  {
   "cell_type": "markdown",
   "source": [
    "The output of the code is '14.0', because since in the np.array is with 'a' also a String stored the other values of\n",
    "the array ara also from the type numpy.str (proved by the output of the third line here). For that reasons the + between\n",
    "v3[1] and v3[2] doesn't add their values, instead it concatenates the two Strings '1' and '4.0' to '14.0'\n"
   ],
   "metadata": {
    "collapsed": false,
    "pycharm": {
     "name": "#%% md\n"
    }
   }
  },
  {
   "cell_type": "markdown",
   "source": [
    "## e)\n",
    "\n",
    "No, transpose() yield no deep copy of the matrix/vector. The following example shows, that after storing the transposed\n",
    "vector of v1 in v2, changing a value of v1 also changes this value in the vector v2."
   ],
   "metadata": {
    "collapsed": false,
    "pycharm": {
     "name": "#%% md\n"
    }
   }
  },
  {
   "cell_type": "code",
   "execution_count": 26,
   "outputs": [
    {
     "name": "stdout",
     "output_type": "stream",
     "text": [
      "v1: [[1 2 3]]\n",
      "v2: [[1]\n",
      " [2]\n",
      " [3]]\n",
      "--Changed v1--\n",
      "v1: [[1 4 3]]\n",
      "v2: [[1]\n",
      " [4]\n",
      " [3]]\n"
     ]
    }
   ],
   "source": [
    "v1 = np.array([[1, 2, 3]])\n",
    "v2 = v1.transpose()\n",
    "print('v1: ' + str(v1))\n",
    "print('v2: ' + str(v2))\n",
    "v1[0][1] = 4\n",
    "print('--Changed v1--')\n",
    "print('v1: ' + str(v1))\n",
    "print('v2: ' + str(v2))"
   ],
   "metadata": {
    "collapsed": false,
    "pycharm": {
     "name": "#%%\n"
    }
   }
  },
  {
   "cell_type": "code",
   "execution_count": null,
   "outputs": [],
   "source": [],
   "metadata": {
    "collapsed": false,
    "pycharm": {
     "name": "#%%\n"
    }
   }
  }
 ],
 "metadata": {
  "kernelspec": {
   "display_name": "Python 3",
   "language": "python",
   "name": "python3"
  },
  "language_info": {
   "codemirror_mode": {
    "name": "ipython",
    "version": 2
   },
   "file_extension": ".py",
   "mimetype": "text/x-python",
   "name": "python",
   "nbconvert_exporter": "python",
   "pygments_lexer": "ipython2",
   "version": "2.7.6"
  }
 },
 "nbformat": 4,
 "nbformat_minor": 0
}